{
 "cells": [
  {
   "cell_type": "code",
   "execution_count": 2,
   "id": "b85de7bc",
   "metadata": {},
   "outputs": [],
   "source": [
    "# http://vis-www.cs.umass.edu/lfw/\n",
    "# i dowloaded a dataset of iamges"
   ]
  },
  {
   "cell_type": "code",
   "execution_count": 5,
   "id": "21e903d8",
   "metadata": {},
   "outputs": [],
   "source": [
    "import cv2\n",
    "import os\n",
    "import random\n",
    "import numpy as np\n",
    "from matplotlib import pyplot as plt"
   ]
  },
  {
   "cell_type": "code",
   "execution_count": 3,
   "id": "652cf2d3",
   "metadata": {},
   "outputs": [],
   "source": [
    "# uncompress tar GZ labelled faces in the wild dataset\n",
    "!tar -xf lfw.tgz"
   ]
  },
  {
   "cell_type": "code",
   "execution_count": 7,
   "id": "c150a110",
   "metadata": {},
   "outputs": [],
   "source": [
    "# move LFW Images to the following repository data/negative \n",
    "for dir in os.listdir('lfw'):\n",
    "    for file in os.listdir(os.path.join('lfw',dir)):\n",
    "        ex_path = os.path.join('lfw',dir,file)\n",
    "        new_path = os.path.join('data','negative',file)\n",
    "        os.replace(ex_path,new_path)"
   ]
  },
  {
   "cell_type": "code",
   "execution_count": null,
   "id": "9b8c6de8",
   "metadata": {},
   "outputs": [],
   "source": []
  }
 ],
 "metadata": {
  "kernelspec": {
   "display_name": "Python 3 (ipykernel)",
   "language": "python",
   "name": "python3"
  },
  "language_info": {
   "codemirror_mode": {
    "name": "ipython",
    "version": 3
   },
   "file_extension": ".py",
   "mimetype": "text/x-python",
   "name": "python",
   "nbconvert_exporter": "python",
   "pygments_lexer": "ipython3",
   "version": "3.8.8"
  }
 },
 "nbformat": 4,
 "nbformat_minor": 5
}
